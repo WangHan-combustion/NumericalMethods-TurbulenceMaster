{
 "cells": [
  {
   "cell_type": "code",
   "execution_count": 1,
   "metadata": {
    "collapsed": true
   },
   "outputs": [],
   "source": [
    "import numpy as np\n",
    "\n"
   ]
  },
  {
   "cell_type": "code",
   "execution_count": 3,
   "metadata": {},
   "outputs": [
    {
     "data": {
      "text/plain": [
       "(20, 7)"
      ]
     },
     "execution_count": 3,
     "metadata": {},
     "output_type": "execute_result"
    }
   ],
   "source": [
    "data=np.loadtxt('prob_4data.dat')\n",
    "data.shape\n"
   ]
  },
  {
   "cell_type": "code",
   "execution_count": 4,
   "metadata": {},
   "outputs": [
    {
     "data": {
      "text/plain": [
       "array([  1.00000000e+00,   2.00000000e+00,   4.00000000e+00,\n",
       "         8.00000000e+00,   1.60000000e+01,   3.20000000e+01,\n",
       "         6.40000000e+01,   1.28000000e+02,   2.56000000e+02,\n",
       "         5.12000000e+02,   1.02400000e+03,   2.04800000e+03,\n",
       "         4.09600000e+03,   8.19200000e+03,   1.63840000e+04,\n",
       "         3.27680000e+04,   6.55360000e+04,   1.31072000e+05,\n",
       "         2.62144000e+05,   5.24288000e+05])"
      ]
     },
     "execution_count": 4,
     "metadata": {},
     "output_type": "execute_result"
    }
   ],
   "source": [
    "data[:,0]"
   ]
  },
  {
   "cell_type": "code",
   "execution_count": 5,
   "metadata": {
    "collapsed": true
   },
   "outputs": [],
   "source": [
    "import pylab as pl"
   ]
  },
  {
   "cell_type": "code",
   "execution_count": 9,
   "metadata": {},
   "outputs": [
    {
     "data": {
      "image/png": "[encoded data removed]",
      "text/plain": [
       "<matplotlib.figure.Figure at 0x7f83bc0e3dd0>"
      ]
     },
     "metadata": {},
     "output_type": "display_data"
    }
   ],
   "source": [
    "pl.plot(data[:,0],data[:,3])\n",
    "pl.show()"
   ]
  },
  {
   "cell_type": "code",
   "execution_count": 8,
   "metadata": {},
   "outputs": [
    {
     "data": {
      "text/plain": [
       "array([[  1.00000000e+000,   2.20264658e+005,   1.98239658e+005,\n",
       "          1.10137329e+005,   8.81123290e+004,   1.82294413e-316,\n",
       "          2.20250000e+004],\n",
       "       [  2.00000000e+000,   1.10874395e+005,   8.88493948e+004,\n",
       "          5.58107303e+004,   3.37857303e+004,   3.77018641e+004,\n",
       "          1.56768641e+004],\n",
       "       [  4.00000000e+000,   5.99877597e+004,   3.79627597e+004,\n",
       "          3.24559274e+004,   1.04309274e+004,   2.46759931e+004,\n",
       "          2.65099312e+003],\n",
       "       [  8.00000000e+000,   3.85872703e+004,   1.65622703e+004,\n",
       "          2.48213542e+004,   2.79635415e+003,   2.22914964e+004,\n",
       "          2.66496400e+002],\n",
       "       [  1.60000000e+001,   2.96207738e+004,   7.59577384e+003,\n",
       "          2.27378158e+004,   7.12815782e+002,   3.68536899e+004,\n",
       "          1.48286899e+004],\n",
       "       [  3.20000000e+001,   2.56458975e+004,   3.62089746e+003,\n",
       "          2.22044184e+004,   1.79418433e+002,   3.48495680e+004,\n",
       "          1.28245680e+004],\n",
       "       [  6.40000000e+001,   2.37909980e+004,   1.76599801e+003,\n",
       "          2.20702585e+004,   4.52584967e+001,   3.39210375e+004,\n",
       "          1.18960375e+004],\n",
       "       [  1.28000000e+002,   2.28970371e+004,   8.72037144e+002,\n",
       "          2.20366674e+004,   1.16673866e+001,   3.34739889e+004,\n",
       "          1.14489889e+004],\n",
       "       [  2.56000000e+002,   2.24584513e+004,   4.33451285e+002,\n",
       "          2.20282664e+004,   3.26640639e+000,   3.32546917e+004,\n",
       "          1.12296917e+004],\n",
       "       [  5.12000000e+002,   2.22412584e+004,   2.16258400e+002,\n",
       "          2.20261660e+004,   1.16596106e+000,   3.31460950e+004,\n",
       "          1.11210950e+004],\n",
       "       [  1.02400000e+003,   2.21331871e+004,   1.08187057e+002,\n",
       "          2.20256408e+004,   6.40837204e-001,   3.30920593e+004,\n",
       "          1.10670593e+004],\n",
       "       [  2.04800000e+003,   2.20792827e+004,   5.42826653e+001,\n",
       "          2.20255096e+004,   5.09555458e-001,   3.30651071e+004,\n",
       "          1.10401071e+004],\n",
       "       [  4.09600000e+003,   2.20523633e+004,   2.73632899e+001,\n",
       "          2.20254767e+004,   4.76734973e-001,   3.30516474e+004,\n",
       "          1.10266474e+004],\n",
       "       [  8.19200000e+003,   2.20389118e+004,   1.39118073e+001,\n",
       "          2.20254685e+004,   4.68529849e-001,   2.69566519e+004,\n",
       "          4.93165188e+003],\n",
       "       [  1.63840000e+004,   2.20321881e+004,   7.18811730e+000,\n",
       "          2.20254665e+004,   4.66478567e-001,   2.20254658e+004,\n",
       "          4.65794807e-001],\n",
       "       [  3.27680000e+004,   2.20288268e+004,   3.82678511e+000,\n",
       "          2.20254660e+004,   4.65965747e-001,   2.20254658e+004,\n",
       "          4.65794807e-001],\n",
       "       [  6.55360000e+004,   2.20271462e+004,   2.14624723e+000,\n",
       "          2.20254658e+004,   4.65837542e-001,   2.20254658e+004,\n",
       "          4.65794807e-001],\n",
       "       [  1.31072000e+005,   2.20263060e+004,   1.30601033e+000,\n",
       "          2.20254658e+004,   4.65805491e-001,   2.20254658e+004,\n",
       "          4.65794807e-001],\n",
       "       [  2.62144000e+005,   2.20258859e+004,   8.85899898e-001,\n",
       "          2.20254658e+004,   4.65797478e-001,   2.20254658e+004,\n",
       "          4.65794807e-001],\n",
       "       [  5.24288000e+005,   2.20256758e+004,   6.75846685e-001,\n",
       "          2.20254658e+004,   4.65795475e-001,   2.20254658e+004,\n",
       "          4.65794807e-001]])"
      ]
     },
     "execution_count": 8,
     "metadata": {},
     "output_type": "execute_result"
    }
   ],
   "source": [
    "\n"
   ]
  },
  {
   "cell_type": "code",
   "execution_count": null,
   "metadata": {
    "collapsed": true
   },
   "outputs": [],
   "source": []
  }
 ],
 "metadata": {
  "kernelspec": {
   "display_name": "Python 2",
   "language": "python",
   "name": "python2"
  },
  "language_info": {
   "codemirror_mode": {
    "name": "ipython",
    "version": 2
   },
   "file_extension": ".py",
   "mimetype": "text/x-python",
   "name": "python",
   "nbconvert_exporter": "python",
   "pygments_lexer": "ipython2",
   "version": "2.7.13"
  }
 },
 "nbformat": 4,
 "nbformat_minor": 2
}
